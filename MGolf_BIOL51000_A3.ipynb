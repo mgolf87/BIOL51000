{
 "cells": [
  {
   "cell_type": "code",
   "execution_count": 1,
   "metadata": {},
   "outputs": [],
   "source": [
    "# BIOL 51000 - Data Systems Life Sciences\n",
    "# Week 3 Coding Assignment: Measuring Conservation, Calculating Substitution Matrices, Calculating Distance Matrices"
   ]
  },
  {
   "cell_type": "code",
   "execution_count": 2,
   "metadata": {},
   "outputs": [],
   "source": [
    "# The needed files for this to run are MultipleAlign.py and Alignments.py"
   ]
  },
  {
   "cell_type": "code",
   "execution_count": 4,
   "metadata": {},
   "outputs": [
    {
     "name": "stdout",
     "output_type": "stream",
     "text": [
      "C:\\Users\\Mathe\\Desktop\\PythonForBiology\n"
     ]
    }
   ],
   "source": [
    "cd C:/Users/Mathe/Desktop/PythonForBiology"
   ]
  },
  {
   "cell_type": "code",
   "execution_count": 6,
   "metadata": {},
   "outputs": [],
   "source": [
    "# Import the necessary libraries/files for use in the notebook\n",
    "from math import log, exp\n",
    "from MultipleAlign import profile\n",
    "from Alignments import DNA_1, sequenceAlign, calcSeqSimilarity"
   ]
  },
  {
   "cell_type": "code",
   "execution_count": 7,
   "metadata": {},
   "outputs": [],
   "source": [
    "#Define a human generated alignment for use in code testing\n",
    "alignment1 = ['CATCATGAGATTCACTGATTA',\n",
    "          'CATCATCGAGAATATCACTTA',\n",
    "          'CATCATCTAGTCACTCACTTA',\n",
    "          'CATCATGCATTAGAATCTTTA',\n",
    "          'CATCATTCTAGTCACTCATTA',\n",
    "          'CATCATTCTAGTCACTCATTA',\n",
    "          'CATCATCACTCACGATTTTTA'] "
   ]
  },
  {
   "cell_type": "markdown",
   "metadata": {},
   "source": [
    "PYTHON CODE FOR MEASURING CONSERVATION"
   ]
  },
  {
   "cell_type": "code",
   "execution_count": 8,
   "metadata": {},
   "outputs": [
    {
     "name": "stdout",
     "output_type": "stream",
     "text": [
      "['GAAGCTCTCGGCCAAAATTCG', 'TCGAGCCTTCCAAACTTTGAA', 'ATAAAACCTGATGAGATTACA', 'GCCTTTGTGAGGGACAGATAG', 'GATTTTCGGACGTTGCCACGG', 'CCCCCGCTGACACGCCCCACA', 'CTATAACTGAGCGCCGCATAA']\n"
     ]
    }
   ],
   "source": [
    "# Generation of Random Matrix, 7 rows x 21 columns for DNA sequences\n",
    "# Import the necessary libraries for use in matrix generation\n",
    "import numpy as np\n",
    "import pandas as pd\n",
    "import random\n",
    "\n",
    "# Define random matrix name\n",
    "RandMatrix = []\n",
    "\n",
    "# Number of rows is defined as 7, with 21 characters for each row being randomly generated as either A,G,T, or C\n",
    "# characters are selected at random and appended to the end of the string until a string of 21 characters is reached\n",
    "for j in range(7):\n",
    "    string = \"\"\n",
    "    for i in range(21):\n",
    "        a = random.randint(1,4)\n",
    "        if a==1:\n",
    "            string=string + 'A'\n",
    "        elif a==2:\n",
    "            string=string + 'C'\n",
    "        elif a==3:\n",
    "            string=string + 'G'\n",
    "        elif a==4:\n",
    "            string=string + 'T'\n",
    "    RandMatrix.append(string)\n",
    "\n",
    "# Verify that a Random Matrix has been created\n",
    "print (RandMatrix)"
   ]
  },
  {
   "cell_type": "code",
   "execution_count": 9,
   "metadata": {},
   "outputs": [
    {
     "name": "stdout",
     "output_type": "stream",
     "text": [
      "[{'C': 1.0}, {'A': 1.0}, {'T': 1.0}, {'C': 1.0}, {'A': 1.0}, {'T': 1.0}, {'G': 0.2857142857142857, 'C': 0.42857142857142855, 'T': 0.2857142857142857}, {'A': 0.2857142857142857, 'G': 0.14285714285714285, 'T': 0.14285714285714285, 'C': 0.42857142857142855}, {'G': 0.14285714285714285, 'A': 0.42857142857142855, 'T': 0.2857142857142857, 'C': 0.14285714285714285}, {'A': 0.42857142857142855, 'G': 0.2857142857142857, 'T': 0.2857142857142857}, {'T': 0.42857142857142855, 'A': 0.14285714285714285, 'G': 0.2857142857142857, 'C': 0.14285714285714285}, {'T': 0.42857142857142855, 'A': 0.42857142857142855, 'C': 0.14285714285714285}, {'C': 0.5714285714285714, 'T': 0.14285714285714285, 'A': 0.14285714285714285, 'G': 0.14285714285714285}, {'A': 0.7142857142857143, 'C': 0.14285714285714285, 'G': 0.14285714285714285}, {'C': 0.42857142857142855, 'T': 0.2857142857142857, 'A': 0.2857142857142857}, {'T': 0.7142857142857143, 'C': 0.2857142857142857}, {'G': 0.14285714285714285, 'A': 0.2857142857142857, 'C': 0.42857142857142855, 'T': 0.14285714285714285}, {'A': 0.42857142857142855, 'C': 0.2857142857142857, 'T': 0.2857142857142857}, {'T': 1.0}, {'T': 1.0}, {'A': 1.0}]\n"
     ]
    }
   ],
   "source": [
    "# Testing the code as written with a human generated alignment\n",
    "print (profile(alignment1))"
   ]
  },
  {
   "cell_type": "code",
   "execution_count": 10,
   "metadata": {},
   "outputs": [
    {
     "name": "stdout",
     "output_type": "stream",
     "text": [
      "[{'G': 0.42857142857142855, 'T': 0.14285714285714285, 'A': 0.14285714285714285, 'C': 0.2857142857142857}, {'A': 0.2857142857142857, 'C': 0.42857142857142855, 'T': 0.2857142857142857}, {'A': 0.42857142857142855, 'G': 0.14285714285714285, 'C': 0.2857142857142857, 'T': 0.14285714285714285}, {'G': 0.14285714285714285, 'A': 0.2857142857142857, 'T': 0.42857142857142855, 'C': 0.14285714285714285}, {'C': 0.2857142857142857, 'G': 0.14285714285714285, 'A': 0.2857142857142857, 'T': 0.2857142857142857}, {'T': 0.42857142857142855, 'C': 0.14285714285714285, 'A': 0.2857142857142857, 'G': 0.14285714285714285}, {'C': 0.8571428571428571, 'G': 0.14285714285714285}, {'T': 0.7142857142857143, 'C': 0.14285714285714285, 'G': 0.14285714285714285}, {'C': 0.14285714285714285, 'T': 0.2857142857142857, 'G': 0.5714285714285714}, {'G': 0.2857142857142857, 'C': 0.14285714285714285, 'A': 0.5714285714285714}, {'G': 0.42857142857142855, 'C': 0.42857142857142855, 'A': 0.14285714285714285}, {'C': 0.2857142857142857, 'A': 0.2857142857142857, 'T': 0.14285714285714285, 'G': 0.2857142857142857}, {'C': 0.2857142857142857, 'A': 0.14285714285714285, 'G': 0.42857142857142855, 'T': 0.14285714285714285}, {'A': 0.5714285714285714, 'T': 0.14285714285714285, 'G': 0.14285714285714285, 'C': 0.14285714285714285}, {'A': 0.14285714285714285, 'C': 0.5714285714285714, 'G': 0.2857142857142857}, {'A': 0.42857142857142855, 'T': 0.14285714285714285, 'C': 0.2857142857142857, 'G': 0.14285714285714285}, {'A': 0.14285714285714285, 'T': 0.2857142857142857, 'G': 0.14285714285714285, 'C': 0.42857142857142855}, {'T': 0.42857142857142855, 'A': 0.42857142857142855, 'C': 0.14285714285714285}, {'T': 0.42857142857142855, 'G': 0.14285714285714285, 'A': 0.2857142857142857, 'C': 0.14285714285714285}, {'C': 0.42857142857142855, 'A': 0.42857142857142855, 'G': 0.14285714285714285}, {'G': 0.42857142857142855, 'A': 0.5714285714285714}]\n"
     ]
    }
   ],
   "source": [
    "# Demonstration that the code works with the randomly generated matrix\n",
    "print (profile(RandMatrix))"
   ]
  },
  {
   "cell_type": "code",
   "execution_count": 11,
   "metadata": {},
   "outputs": [
    {
     "name": "stdout",
     "output_type": "stream",
     "text": [
      "Conservation:  [1.0, 1.0, 1.0, 1.0, 1.0, 1.0, 0.346938775510204, 0.30612244897959184, 0.30612244897959184, 0.346938775510204, 0.30612244897959184, 0.3877551020408163, 0.3877551020408163, 0.5510204081632654, 0.346938775510204, 0.5918367346938775, 0.30612244897959184, 0.346938775510204, 1.0, 1.0, 1.0]\n"
     ]
    }
   ],
   "source": [
    "# Define the conservation function\n",
    "# This section uses profile from MultipleAlign which generates a compositional profile for use\n",
    "def getConservation(align, simMatrix):\n",
    "\n",
    "\n",
    "  conservation = []\n",
    "  prof = profile(align)\n",
    "\n",
    "# Convert the compositional data for each alignment position into a single value representing the degree of conservation \n",
    "# for the residue compared to a simMatrix by looping through the dictionaries of the profile\n",
    "  for compDict in prof:\n",
    "    \n",
    "    items = list(compDict.items())  # do not need list() in Python 2\n",
    "\n",
    "# Sort the item list by the composition value to obtain the highest scoring residue code\n",
    "    items.sort( key=lambda x: x[1] )\n",
    "        \n",
    "# Define initial score of 0 and loop through the residue codes and composition values to generate \n",
    "# all possible combinations of two residue types.    \n",
    "# Score is determined by multiplying compositional fractions by similarity score of substitution matrix\n",
    "    score = 0.0\n",
    "\n",
    "    for resA, compA in items:\n",
    "      for resB, compB in items:\n",
    "        score += compA * compB * simMatrix[resA][resB]\n",
    "\n",
    "# Scale the for easy comparison between positions\n",
    "# Scores for each position are divided by maximum possible value for that position to bring all values between 0 and 1\n",
    "# The best score is that which provides diagonal element of substitution matrix with the highest composition \n",
    "# at that location\n",
    "    bestLetter = items[-1][0]\n",
    "    maxScore = simMatrix[bestLetter][bestLetter]\n",
    "\n",
    "# The score is scaled by dividing by maximum value, and is then added to the conservation list which is returned \n",
    "# upon exiting the loop    \n",
    "    score /= maxScore\n",
    "    conservation.append(score)\n",
    "  \n",
    "  return conservation\n",
    "\n",
    "\n",
    "# Testing the code as written with a human generated alignment\n",
    "print('Conservation: ', getConservation(alignment1, DNA_1))\n",
    "\n"
   ]
  },
  {
   "cell_type": "code",
   "execution_count": 12,
   "metadata": {},
   "outputs": [
    {
     "name": "stdout",
     "output_type": "stream",
     "text": [
      "Conservation:  [0.30612244897959184, 0.346938775510204, 0.30612244897959184, 0.30612244897959184, 0.26530612244897955, 0.30612244897959184, 0.7551020408163265, 0.5510204081632654, 0.42857142857142855, 0.42857142857142855, 0.3877551020408163, 0.26530612244897955, 0.30612244897959184, 0.3877551020408163, 0.42857142857142855, 0.30612244897959184, 0.30612244897959184, 0.3877551020408163, 0.30612244897959184, 0.3877551020408163, 0.510204081632653]\n"
     ]
    }
   ],
   "source": [
    "# Demonstration that the code works with the randomly generated matrix\n",
    "print('Conservation: ', getConservation(RandMatrix, DNA_1))"
   ]
  },
  {
   "cell_type": "markdown",
   "metadata": {},
   "source": [
    "PYTHON CODE FOR CALCULATING SUBSTITUTION MATRICES"
   ]
  },
  {
   "cell_type": "code",
   "execution_count": 13,
   "metadata": {},
   "outputs": [],
   "source": [
    "# Define the calcSubstitutionMatrix function \n",
    "# This section uses log from math which is used in the substitution table so addition can be used for \n",
    "# alignment overall scoring.\n",
    "# alphabet is a list of all possible residue letters; maxVal is used to scale the substitution matrix\n",
    "def calcSubstitutionMatrix(alignments, alphabet, maxVal, smooth=5):\n",
    "\n",
    "# Create empty dictionaries for data storage    \n",
    "  matrix = {}\n",
    "  counts = {}\n",
    "\n",
    "# Create subdictionaries and initialize with 0    \n",
    "  for letterA in alphabet:\n",
    "    subDict = {}\n",
    "    \n",
    "    for letterB in alphabet:\n",
    "      subDict[letterB] = 0\n",
    "  \n",
    "    matrix[letterA] = subDict\n",
    "    counts[letterA] = 0\n",
    "  \n",
    "  totalRes = 0.0\n",
    "  totalSub = 0.0\n",
    "\n",
    "# Loop through the alignments to gather substitution data\n",
    "# The first loop through is to gather the number of positions and is recorded\n",
    "# The second loop is performed through the position data to collect which residues are present at the locations \n",
    "# and another loop loops through the residue letters; \n",
    "# letters representing gaps are skipped otherwise they are added to the list\n",
    "  for align in alignments:\n",
    " \n",
    "    numPos = len(align[0])\n",
    "\n",
    "    for i in range(numPos):\n",
    " \n",
    "      letters = []\n",
    "      \n",
    "      for seq in align:\n",
    "\n",
    "        letter = seq[i]\n",
    "        if letter == '-':\n",
    "          continue\n",
    "    \n",
    "        letters.append(letter)\n",
    "\n",
    "# Loop through the list two times to gather all possible residue pairs        \n",
    "      for letterA in letters:\n",
    "        counts[letterA] += 1\n",
    "      \n",
    "        for letterB in letters:          \n",
    "          matrix[letterA][letterB] += 1\n",
    "\n",
    "      numLetters = len(letters)\n",
    "      totalRes += numLetters    \n",
    "      totalSub += numLetters * numLetters\n",
    "\n",
    "# Calculate the probability and log-odds scores for the final matrix\n",
    "  averageComp = {}    \n",
    "  for letter in alphabet:\n",
    "    averageComp[letter] = counts[letter]/totalRes      \n",
    "\n",
    "# Loop through the residue pairs and calculate the expected substitution probability \n",
    "  maxScore = None\n",
    "  for resA in alphabet:\n",
    "    for resB in alphabet:\n",
    "\n",
    "      expected = averageComp[resA] * averageComp[resB]\n",
    "      \n",
    "      if not expected:\n",
    "        continue\n",
    "\n",
    "# The observed count is a pair count of the combination and is used to calculate a weighted value        \n",
    "      observed = matrix[resA][resB]\n",
    "      weight = 1.0 / (1.0+(observed/smooth))\n",
    "\n",
    "# The observed substitution counts are converted to a probability by dividing by the total number of substitution pairs        \n",
    "      observed /= totalSub\n",
    "      observed = weight*expected + (1-weight)*observed\n",
    "\n",
    "# Calculate the log-odds score and determine if it is a new maximum score value\n",
    "# The score is placed in the matrix for the current residue combination\n",
    "      logOdds = log(observed/expected)\n",
    "                  \n",
    "      if (maxScore is None) or (logOdds>maxScore):\n",
    "        maxScore = logOdds\n",
    "      \n",
    "      matrix[resA][resB] = logOdds\n",
    "\n",
    "  maxScore = abs(maxScore)\n",
    "\n",
    "# Loop through the matrix and determine the final matrix \n",
    "  for resA in alphabet:\n",
    "    for resB in alphabet:\n",
    "      matrix[resA][resB] = int(maxVal*matrix[resA][resB]/maxScore)\n",
    "\n",
    "  return matrix"
   ]
  },
  {
   "cell_type": "code",
   "execution_count": 14,
   "metadata": {},
   "outputs": [
    {
     "name": "stdout",
     "output_type": "stream",
     "text": [
      "Substitution Matrix:  {'G': {'G': 8, 'C': 0, 'A': 0, 'T': -2}, 'C': {'G': 0, 'C': 7, 'A': -5, 'T': -5}, 'A': {'G': 0, 'C': -5, 'A': 6, 'T': -7}, 'T': {'G': -2, 'C': -5, 'A': -7, 'T': 6}}\n"
     ]
    }
   ],
   "source": [
    "# Testing the code as written with a human generated alignment\n",
    "nucleotides = DNA_1.keys()\n",
    "print('Substitution Matrix: ', calcSubstitutionMatrix([alignment1,], nucleotides, 8))"
   ]
  },
  {
   "cell_type": "code",
   "execution_count": 15,
   "metadata": {},
   "outputs": [
    {
     "name": "stdout",
     "output_type": "stream",
     "text": [
      "Substitution Matrix:  {'G': {'G': 4, 'C': 0, 'A': -1, 'T': -3}, 'C': {'G': 0, 'C': 4, 'A': -2, 'T': -3}, 'A': {'G': -1, 'C': -2, 'A': 4, 'T': -2}, 'T': {'G': -3, 'C': -3, 'A': -2, 'T': 8}}\n"
     ]
    }
   ],
   "source": [
    "# Demonstration that the code works with the randomly generated matrix\n",
    "nucleotides = DNA_1.keys()\n",
    "print('Substitution Matrix: ', calcSubstitutionMatrix([RandMatrix,], nucleotides, 8))"
   ]
  },
  {
   "cell_type": "markdown",
   "metadata": {},
   "source": [
    "PYTHON CODE FOR CALCULATING DISTANCE MATRICES"
   ]
  },
  {
   "cell_type": "code",
   "execution_count": 16,
   "metadata": {},
   "outputs": [],
   "source": [
    "# This section uses calcSeqSimilarity and sequenceAlign from Alignments (downloads from cambridge.org)\n",
    "# Define the getDistanceMatrix function\n",
    "def getDistanceMatrix(seqs, simMatrix):\n",
    "\n",
    "# Create a matrix and initialize with 0; matrix will be filled with distances between all possible sequence pairs\n",
    "# maxScores is the maximum possible score for the sequence comparisons compared to itself using calcSeqSimilarity\n",
    "  n = len(seqs)\n",
    "  matrix = [[0.0] * n for x in range(n)]\n",
    "  maxScores = [calcSeqSimilarity(x, x, simMatrix) for x in seqs]\n",
    "\n",
    "# Loop through row and column indices the corresponding sequence is obtained for each index\n",
    "# Two for loops are used to save time \n",
    "# We can do this because the matrix is symmetric about the diagonal and only half of the matrix needs to be considered\n",
    "# The first for loop goes n-1 times and the second starts at i+1\n",
    "  for i in range(n-1):\n",
    "    seqA = seqs[i]\n",
    "  \n",
    "    for j in range(i+1,n):\n",
    "      seqB = seqs[j]\n",
    "      \n",
    "# Align sequences using the simMatrix\n",
    "# Determine score and use it to calculate distance\n",
    "      score, alignA, alignB = sequenceAlign(seqA, seqB, simMatrix)\n",
    "      maxScore = max(maxScores[i],maxScores[j])\n",
    "      dist = maxScore - score\n",
    "      \n",
    "# Create distance matrices and return final matrix\n",
    "      matrix[i][j] = dist\n",
    "      matrix[j][i] = dist\n",
    "\n",
    "  return matrix"
   ]
  },
  {
   "cell_type": "code",
   "execution_count": 17,
   "metadata": {},
   "outputs": [
    {
     "name": "stdout",
     "output_type": "stream",
     "text": [
      "Distance Matrix:\n",
      "['0.00', '11.00', '11.00', '8.00', '5.00', '5.00', '9.00']\n",
      "['11.00', '0.00', '5.00', '9.00', '11.00', '11.00', '10.00']\n",
      "['11.00', '5.00', '0.00', '10.00', '12.00', '12.00', '11.00']\n",
      "['8.00', '9.00', '10.00', '0.00', '8.00', '8.00', '7.00']\n",
      "['5.00', '11.00', '12.00', '8.00', '0.00', '0.00', '10.00']\n",
      "['5.00', '11.00', '12.00', '8.00', '0.00', '0.00', '10.00']\n",
      "['9.00', '10.00', '11.00', '7.00', '10.00', '10.00', '0.00']\n"
     ]
    }
   ],
   "source": [
    "# Testing the code as written with a human generated alignment\n",
    "distanceMatrix = getDistanceMatrix(alignment1, DNA_1)\n",
    "\n",
    "print(\"Distance Matrix:\")\n",
    "\n",
    "for row in distanceMatrix:\n",
    "    print(['%.2f' % x for x in row])  "
   ]
  },
  {
   "cell_type": "code",
   "execution_count": 18,
   "metadata": {},
   "outputs": [
    {
     "name": "stdout",
     "output_type": "stream",
     "text": [
      "Distance Matrix 2:\n",
      "['0.00', '17.00', '14.00', '13.00', '16.00', '16.00', '15.00']\n",
      "['17.00', '0.00', '14.00', '16.00', '19.00', '14.00', '16.00']\n",
      "['14.00', '14.00', '0.00', '18.00', '19.00', '17.00', '14.00']\n",
      "['13.00', '16.00', '18.00', '0.00', '12.00', '15.00', '11.00']\n",
      "['16.00', '19.00', '19.00', '12.00', '0.00', '15.00', '15.00']\n",
      "['16.00', '14.00', '17.00', '15.00', '15.00', '0.00', '13.00']\n",
      "['15.00', '16.00', '14.00', '11.00', '15.00', '13.00', '0.00']\n"
     ]
    }
   ],
   "source": [
    "# Demonstration that the code works with the randomly generated matrix\n",
    "distanceMatrix2 = getDistanceMatrix(RandMatrix, DNA_1)\n",
    "\n",
    "print(\"Distance Matrix 2:\")\n",
    " \n",
    "for row in distanceMatrix2:\n",
    "    print(['%.2f' % x for x in row])"
   ]
  },
  {
   "cell_type": "code",
   "execution_count": null,
   "metadata": {
    "collapsed": true
   },
   "outputs": [],
   "source": []
  }
 ],
 "metadata": {
  "kernelspec": {
   "display_name": "Python 3",
   "language": "python",
   "name": "python3"
  },
  "language_info": {
   "codemirror_mode": {
    "name": "ipython",
    "version": 3
   },
   "file_extension": ".py",
   "mimetype": "text/x-python",
   "name": "python",
   "nbconvert_exporter": "python",
   "pygments_lexer": "ipython3",
   "version": "3.8.8"
  }
 },
 "nbformat": 4,
 "nbformat_minor": 2
}
